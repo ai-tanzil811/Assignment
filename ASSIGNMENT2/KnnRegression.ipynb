{
 "cells": [
  {
   "cell_type": "markdown",
   "id": "1a4f48c3",
   "metadata": {},
   "source": [
    "# DATA PREAPARATION"
   ]
  },
  {
   "cell_type": "code",
   "execution_count": 5,
   "id": "80fb22da",
   "metadata": {},
   "outputs": [
    {
     "name": "stdout",
     "output_type": "stream",
     "text": [
      "First 5 rows of the processed dataset:\n",
      "[  6.    148.     72.     35.      0.     33.6     0.627  50.      1.   ]\n",
      "[ 1.    85.    66.    29.     0.    26.6    0.351 31.     0.   ]\n",
      "[  8.    183.     64.      0.      0.     23.3     0.672  32.      1.   ]\n",
      "[ 1.    89.    66.    23.    94.    28.1    0.167 21.     0.   ]\n",
      "[  0.    137.     40.     35.    168.     43.1     2.288  33.      1.   ]\n",
      "Training set size: 529\n",
      "Validation set size: 125\n",
      "Test set size: 114\n"
     ]
    }
   ],
   "source": [
    "import random\n",
    "import numpy as np\n",
    "random.seed(100)\n",
    "\n",
    "data_path = 'diabetes.csv'\n",
    "features = np.genfromtxt(data_path, delimiter=',', skip_header=1, usecols=range(0, 8))\n",
    "target = np.genfromtxt(data_path, delimiter=',', skip_header=1, usecols=[8])\n",
    "my_data = np.column_stack((features, target))\n",
    "\n",
    "print(\"First 5 rows of the processed dataset:\")\n",
    "for i in range(5):\n",
    "    print(my_data[i])\n",
    "\n",
    "Train_set = []\n",
    "Val_set = []\n",
    "Test_set = []\n",
    "\n",
    "for sample in my_data:\n",
    "    R = random.random()\n",
    "    if R >= 0 and R <= 0.7:\n",
    "        Train_set.append(sample)\n",
    "    elif R > 0.7 and R <= 0.85:\n",
    "        Val_set.append(sample)\n",
    "    else:\n",
    "        Test_set.append(sample)\n",
    "\n",
    "print(f\"Training set size: {len(Train_set)}\")\n",
    "print(f\"Validation set size: {len(Val_set)}\")\n",
    "print(f\"Test set size: {len(Test_set)}\")"
   ]
  },
  {
   "cell_type": "markdown",
   "id": "4ab8e619",
   "metadata": {},
   "source": [
    "# KNN REGRESSION "
   ]
  },
  {
   "cell_type": "code",
   "execution_count": 6,
   "id": "1f6168e5",
   "metadata": {},
   "outputs": [],
   "source": [
    "def knn_regression(train_set, validation_sample, k=5):\n",
    "    distances = []\n",
    "    vx = validation_sample[:-1]\n",
    "    \n",
    "    for train_sample in train_set:\n",
    "        tx = train_sample[:-1]\n",
    "        distance = np.sqrt(np.sum((vx - tx)**2))\n",
    "        distances.append((train_sample, distance))\n",
    "    \n",
    "    distances.sort(key=lambda x: x[1])\n",
    "    k_nearest = distances[:k]\n",
    "    outputs = [sample[0][-1] for sample in k_nearest]\n",
    "    predicted_output = np.mean(outputs)\n",
    "    \n",
    "    return predicted_output\n",
    "\n",
    "def calculate_mse(train_set, val_set, k):\n",
    "    error = 0\n",
    "    \n",
    "    for v_sample in val_set:\n",
    "        true_output = v_sample[-1]\n",
    "        predicted_output = knn_regression(train_set, v_sample, k)\n",
    "        error += (true_output - predicted_output)**2\n",
    "    \n",
    "    mse = error / len(val_set)\n",
    "    return mse"
   ]
  },
  {
   "cell_type": "markdown",
   "id": "e2ae82f5",
   "metadata": {},
   "source": [
    "# KNN REGRESSION REPORT"
   ]
  },
  {
   "cell_type": "code",
   "execution_count": 7,
   "id": "2d5a90fc",
   "metadata": {},
   "outputs": [
    {
     "name": "stdout",
     "output_type": "stream",
     "text": [
      "Mean Squared Error for K=1: 0.3120\n",
      "Mean Squared Error for K=3: 0.1760\n",
      "Mean Squared Error for K=5: 0.1510\n",
      "Mean Squared Error for K=10: 0.1366\n",
      "Mean Squared Error for K=15: 0.1369\n",
      "\n",
      "Best K value: 10 with MSE: 0.1366\n",
      "\n",
      "K\tMean Squared Error\n",
      "-------------------------\n",
      "1\t0.3120\n",
      "3\t0.1760\n",
      "5\t0.1510\n",
      "10\t0.1366\n",
      "15\t0.1369\n",
      "\n",
      "Test Mean Squared Error (K=10): 0.2013\n"
     ]
    }
   ],
   "source": [
    "\n",
    "k_values = [1, 3, 5, 10, 15]\n",
    "validation_mse = {}\n",
    "\n",
    "for k in k_values:\n",
    "    mse = calculate_mse(Train_set, Val_set, k)\n",
    "    validation_mse[k] = mse\n",
    "    print(f\"Mean Squared Error for K={k}: {mse:.4f}\")\n",
    "\n",
    "best_k = min(validation_mse, key=validation_mse.get)\n",
    "print(f\"\\nBest K value: {best_k} with MSE: {validation_mse[best_k]:.4f}\")\n",
    "\n",
    "print(\"\\nK\\tMean Squared Error\")\n",
    "print(\"-\" * 25)\n",
    "for k in k_values:\n",
    "    print(f\"{k}\\t{validation_mse[k]:.4f}\")\n",
    "\n",
    "test_mse = calculate_mse(Train_set, Test_set, best_k)\n",
    "print(f\"\\nTest Mean Squared Error (K={best_k}): {test_mse:.4f}\")"
   ]
  }
 ],
 "metadata": {
  "kernelspec": {
   "display_name": "base",
   "language": "python",
   "name": "python3"
  },
  "language_info": {
   "codemirror_mode": {
    "name": "ipython",
    "version": 3
   },
   "file_extension": ".py",
   "mimetype": "text/x-python",
   "name": "python",
   "nbconvert_exporter": "python",
   "pygments_lexer": "ipython3",
   "version": "3.12.7"
  }
 },
 "nbformat": 4,
 "nbformat_minor": 5
}

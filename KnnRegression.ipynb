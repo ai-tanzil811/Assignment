{
 "cells": [
  {
   "cell_type": "markdown",
   "id": "1a4f48c3",
   "metadata": {},
   "source": [
    "# DATA PREPARATION"
   ]
  },
  {
   "cell_type": "code",
   "execution_count": 19,
   "id": "80fb22da",
   "metadata": {},
   "outputs": [
    {
     "name": "stdout",
     "output_type": "stream",
     "text": [
      "Dataset shape: (768, 9)\n",
      "Training: 537 samples (69.9%)\n",
      "Validation: 115 samples (15.0%)\n",
      "Test: 116 samples (15.1%)\n"
     ]
    }
   ],
   "source": [
    "import numpy as np\n",
    "import pandas as pd\n",
    "from sklearn.model_selection import train_test_split\n",
    "np.random.seed(42)\n",
    "df = pd.read_csv('diabetes.csv')\n",
    "print(f\"Dataset shape: {df.shape}\")\n",
    "X = df.iloc[:, :-1]\n",
    "y = df.iloc[:, -1]\n",
    "X_train, X_temp, y_train, y_temp = train_test_split(\n",
    "    X, y, test_size=0.3, random_state=42\n",
    ")\n",
    "\n",
    "X_val, X_test, y_val, y_test = train_test_split(\n",
    "    X_temp, y_temp, test_size=0.5, random_state=42\n",
    ")\n",
    "Train_set = np.column_stack((X_train, y_train))\n",
    "Val_set = np.column_stack((X_val, y_val))\n",
    "Test_set = np.column_stack((X_test, y_test))\n",
    "print(f\"Training: {len(Train_set)} samples ({len(Train_set)/len(df)*100:.1f}%)\")\n",
    "print(f\"Validation: {len(Val_set)} samples ({len(Val_set)/len(df)*100:.1f}%)\")\n",
    "print(f\"Test: {len(Test_set)} samples ({len(Test_set)/len(df)*100:.1f}%)\")"
   ]
  },
  {
   "cell_type": "markdown",
   "id": "4ab8e619",
   "metadata": {},
   "source": [
    "# KNN REGRESSION"
   ]
  },
  {
   "cell_type": "code",
   "execution_count": 20,
   "id": "1f6168e5",
   "metadata": {},
   "outputs": [],
   "source": [
    "def knn_regression_manual(train_set, validation_sample, k=5):\n",
    "    distances = []\n",
    "    vx = validation_sample[:-1]  \n",
    "    \n",
    "    for train_sample in train_set:\n",
    "        tx = train_sample[:-1]  \n",
    "        \n",
    "        distance = np.sqrt(np.sum((vx - tx)**2))\n",
    "        \n",
    "        distances.append((train_sample[-1], distance))\n",
    "    \n",
    "    distances.sort(key=lambda x: x[1])  \n",
    "    k_nearest_neighbors_data = distances[:k]  \n",
    "    outputs = [item[0] for item in k_nearest_neighbors_data]\n",
    "    predicted_output = np.mean(outputs)   \n",
    "    return predicted_output\n",
    "def mean_squared_error(train_set, validation_set, k=5):\n",
    "    total_error = 0\n",
    "    for validation_sample in validation_set:\n",
    "        predicted_output = knn_regression_manual(train_set, validation_sample, k)\n",
    "        actual_output = validation_sample[-1]\n",
    "        error = (predicted_output - actual_output) ** 2\n",
    "        total_error += error\n",
    "    mse = total_error / len(validation_set)\n",
    "    return mse"
   ]
  },
  {
   "cell_type": "markdown",
   "id": "e2ae82f5",
   "metadata": {},
   "source": [
    "# KNN REGRESSION RESULTS"
   ]
  },
  {
   "cell_type": "code",
   "execution_count": null,
   "id": "2d5a90fc",
   "metadata": {},
   "outputs": [
    {
     "name": "stdout",
     "output_type": "stream",
     "text": [
      "k | Validation MSE  |\n",
      "----------------------------------------\n",
      " 1 | 0.3217 |\n",
      " 3 | 0.2155 |\n",
      " 5 | 0.2014 |\n",
      " 10 | 0.1917 |\n",
      " 15 | 0.1764 |\n",
      "----------------------------------------\n",
      "\n",
      "Test Mean Squared Error (Manual): 0.1989 (K=15)\n"
     ]
    }
   ],
   "source": [
    "k_values = [1, 3, 5, 10, 15]\n",
    "validation_mse_manual = {}\n",
    "\n",
    "for k in k_values:\n",
    "    mse_manual = calculate_mse_manual(Train_set, Val_set, k)\n",
    "    validation_mse_manual[k] = mse_manual\n",
    "    \n",
    "best_k_manual = min(validation_mse_manual, key=validation_mse_manual.get)\n",
    "test_mse_manual = calculate_mse_manual(Train_set, Test_set, best_k_manual)\n",
    "print(\"k | Validation MSE  |\")\n",
    "print(\"-\" * 40)\n",
    "for k in k_values:\n",
    "    print(f\" {k} | {validation_mse_manual[k]:.4f} |\")\n",
    "print(\"-\" * 40)\n",
    "print(\"\\nTest Mean Squared Error : {:.4f} (K={})\".format(test_mse_manual, best_k_manual))"
   ]
  }
 ],
 "metadata": {
  "kernelspec": {
   "display_name": "base",
   "language": "python",
   "name": "python3"
  },
  "language_info": {
   "codemirror_mode": {
    "name": "ipython",
    "version": 3
   },
   "file_extension": ".py",
   "mimetype": "text/x-python",
   "name": "python",
   "nbconvert_exporter": "python",
   "pygments_lexer": "ipython3",
   "version": "3.12.7"
  }
 },
 "nbformat": 4,
 "nbformat_minor": 5
}

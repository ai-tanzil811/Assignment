{
 "cells": [
  {
   "cell_type": "markdown",
   "metadata": {},
   "source": [
    "# INPUT FOR WORK"
   ]
  },
  {
   "cell_type": "code",
   "execution_count": 6,
   "metadata": {},
   "outputs": [],
   "source": [
    "coords = {}\n",
    "adjlist = {}\n",
    "firstInput = int(input(\"number of nodes to feed: \"))\n",
    "secondInput = int(input(\"number of connections : \"))\n",
    "with open(\"1.txt\", 'r') as f:\n",
    "    for i in range(firstInput):\n",
    "        x = f.readline().split()\n",
    "        a, b, c = x[0], int(x[1]), int(x[2])\n",
    "        coords[a] = [b, c]\n",
    "        adjlist[a] = []\n",
    "f.close()\n",
    "\n",
    "with open(\"2.txt\", 'r') as f2:\n",
    "    for i in range(secondInput):\n",
    "        x = f2.readline().split()\n",
    "        a, b, c = x[0], x[1], int(x[2])\n",
    "        adjlist[a].append([b, c])\n",
    "        adjlist[b].append([a, c])\n",
    "f2.close()"
   ]
  },
  {
   "cell_type": "markdown",
   "metadata": {},
   "source": [
    "# HEURISTIC FUNCTION"
   ]
  },
  {
   "cell_type": "code",
   "execution_count": 7,
   "metadata": {},
   "outputs": [],
   "source": [
    "import math as mth\n",
    "@staticmethod\n",
    "def heuristic(node1,node2):\n",
    "    x1,y1 = coords[node1]\n",
    "    x2,y2 = coords[node2]\n",
    "    return mth.sqrt(mth.pow(x2-x1,2)+mth.pow(y2-y1,2))"
   ]
  },
  {
   "cell_type": "markdown",
   "metadata": {},
   "source": [
    "# NODE STATE CLASS"
   ]
  },
  {
   "cell_type": "code",
   "execution_count": null,
   "metadata": {},
   "outputs": [],
   "source": [
    "class NodeState:\n",
    "    def __init__(self, nid, g, f, parent=None):\n",
    "        self.nid = nid          \n",
    "        self.g = g              \n",
    "        self.f = f              \n",
    "        self.parent = parent    \n",
    "\n",
    "    def priority(self, compare_node):\n",
    "        return self.f < compare_node.f\n",
    "   \n",
    "   \n",
    " "
   ]
  },
  {
   "cell_type": "markdown",
   "metadata": {},
   "source": [
    "# A* ALGORITHM"
   ]
  },
  {
   "cell_type": "code",
   "execution_count": null,
   "metadata": {},
   "outputs": [
    {
     "name": "stdout",
     "output_type": "stream",
     "text": [
      "Solution Path: ['S', 'A', 'G']\n",
      "Total Cost: 2\n"
     ]
    }
   ],
   "source": [
    "\n",
    "def a_star_algorithm(startnode, goalnode):\n",
    "        minQ = []\n",
    "        g = 0\n",
    "        h = heuristic(startnode, goalnode)\n",
    "        f = g + h\n",
    "        start_state = NodeState(nid=startnode, g=g, f=f, parent=None)\n",
    "        minQ.append(start_state)\n",
    "    \n",
    "        visited = set() \n",
    "\n",
    "        while minQ:\n",
    "            idx = 0\n",
    "            for i in range(len(minQ)):\n",
    "                if minQ[i].priority(minQ[idx]):\n",
    "                    idx = i\n",
    "            currstate = minQ.pop(idx)\n",
    "        \n",
    "            if currstate.nid == goalnode:\n",
    "                path = []\n",
    "                total_cost = currstate.g\n",
    "                while currstate:\n",
    "                    path.append(currstate.nid)\n",
    "                    currstate = currstate.parent\n",
    "                path.reverse()  # Reverse in-place\n",
    "                print(\"Solution Path:\", path)\n",
    "                print(\"Total Cost:\", total_cost)\n",
    "                return\n",
    "\n",
    "            if currstate.nid in visited:\n",
    "                continue\n",
    "            \n",
    "            visited.add(currstate.nid)\n",
    "        \n",
    "            neighbors = adjlist.get(currstate.nid, [])\n",
    "            for neighbor, cost in neighbors:\n",
    "                new_g = currstate.g + cost\n",
    "                new_h = heuristic(neighbor, goalnode)\n",
    "                new_f = new_g + new_h\n",
    "                new_state = NodeState(nid=neighbor, g=new_g, f=new_f, parent=currstate)\n",
    "                minQ.append(new_state)\n",
    "\n",
    "        print(\"No path found\")"
   ]
  },
  {
   "cell_type": "markdown",
   "metadata": {},
   "source": [
    "# TEST RUN"
   ]
  },
  {
   "cell_type": "code",
   "execution_count": 13,
   "metadata": {},
   "outputs": [
    {
     "name": "stdout",
     "output_type": "stream",
     "text": [
      "Solution Path: ['S', 'A', 'G']\n",
      "Total Cost: 2\n"
     ]
    }
   ],
   "source": [
    "a = input(\"start node: \").upper()\n",
    "b = input(\"goal node: \").upper()\n",
    "a_star_algorithm(a, b)"
   ]
  }
 ],
 "metadata": {
  "kernelspec": {
   "display_name": "base",
   "language": "python",
   "name": "python3"
  },
  "language_info": {
   "codemirror_mode": {
    "name": "ipython",
    "version": 3
   },
   "file_extension": ".py",
   "mimetype": "text/x-python",
   "name": "python",
   "nbconvert_exporter": "python",
   "pygments_lexer": "ipython3",
   "version": "3.12.7"
  }
 },
 "nbformat": 4,
 "nbformat_minor": 2
}

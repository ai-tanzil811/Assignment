{
 "cells": [
  {
   "cell_type": "markdown",
   "id": "b62867a9",
   "metadata": {},
   "source": [
    "# DATA PREPARATION"
   ]
  },
  {
   "cell_type": "code",
   "execution_count": 1,
   "id": "8fafdfd0",
   "metadata": {},
   "outputs": [
    {
     "name": "stdout",
     "output_type": "stream",
     "text": [
      "Dataset shape: (150, 6)\n",
      "Training: 105 samples (70.0%)\n",
      "Validation: 22 samples (14.7%)\n",
      "Test: 23 samples (15.3%)\n"
     ]
    }
   ],
   "source": [
    "import numpy as np\n",
    "import pandas as pd\n",
    "from sklearn.preprocessing import LabelEncoder\n",
    "from sklearn.model_selection import train_test_split\n",
    "np.random.seed(42)\n",
    "df = pd.read_csv('Iris.csv')\n",
    "print(f\"Dataset shape: {df.shape}\")\n",
    "X = df.iloc[:, 1:5]  \n",
    "y = df['Species']    \n",
    "\n",
    "label_encoder = LabelEncoder()\n",
    "y_encoded = label_encoder.fit_transform(y)\n",
    "X_train, X_temp, y_train, y_temp = train_test_split(\n",
    "    X, y_encoded, test_size=0.3, random_state=42, stratify=y_encoded\n",
    ")\n",
    "\n",
    "X_val, X_test, y_val, y_test = train_test_split(\n",
    "    X_temp, y_temp, test_size=0.5, random_state=42, stratify=y_temp\n",
    ")\n",
    "Train_set = np.column_stack((X_train, y_train))\n",
    "Val_set = np.column_stack((X_val, y_val))\n",
    "Test_set = np.column_stack((X_test, y_test))\n",
    "print(f\"Training: {len(Train_set)} samples ({len(Train_set)/len(df)*100:.1f}%)\")\n",
    "print(f\"Validation: {len(Val_set)} samples ({len(Val_set)/len(df)*100:.1f}%)\")\n",
    "print(f\"Test: {len(Test_set)} samples ({len(Test_set)/len(df)*100:.1f}%)\")"
   ]
  },
  {
   "cell_type": "markdown",
   "id": "81433b10",
   "metadata": {},
   "source": [
    "# KNN CLASSIFICATION"
   ]
  },
  {
   "cell_type": "code",
   "execution_count": 2,
   "id": "90af64f8",
   "metadata": {},
   "outputs": [],
   "source": [
    "def knn_classify(train_set, sample, k=5):\n",
    "    \n",
    "    distances = []\n",
    "    vx = sample[:-1]  \n",
    "    for train_sample in train_set:\n",
    "        tx = train_sample[:-1]  \n",
    "        \n",
    "        distance = np.sqrt(np.sum((vx - tx)**2))\n",
    "        \n",
    "        distances.append((train_sample, distance))\n",
    "    distances.sort(key=lambda x: x[1])\n",
    "    k_nearest = distances[:k]\n",
    "    k_classes = [sample[0][-1] for sample in k_nearest]\n",
    "    from collections import Counter\n",
    "    class_counts = Counter(k_classes)\n",
    "    predicted_class = class_counts.most_common(1)[0][0]\n",
    "    return predicted_class\n",
    "\n",
    "def calculate_accuracy(train_set, val_set, k=5):\n",
    "    correct = 0\n",
    "    for val_sample in val_set:\n",
    "        true_class = val_sample[-1]\n",
    "        \n",
    "        predicted_class = knn_classify(train_set, val_sample, k)\n",
    "        \n",
    "        if predicted_class == true_class:\n",
    "            correct += 1\n",
    "    accuracy = (correct / len(val_set)) * 100\n",
    "    return accuracy"
   ]
  },
  {
   "cell_type": "markdown",
   "id": "a6d542f9",
   "metadata": {},
   "source": [
    "# KNN CLASSIFICATION RESULTS"
   ]
  },
  {
   "cell_type": "code",
   "execution_count": 11,
   "id": "e92db2ac",
   "metadata": {},
   "outputs": [
    {
     "name": "stdout",
     "output_type": "stream",
     "text": [
      "K values | Validation Accuracy (%)\n",
      "----------------------------------------\n",
      "1 \t |\t   90.91\n",
      "3 \t |\t   90.91\n",
      "5 \t |\t   95.45\n",
      "10 \t |\t   90.91\n",
      "15 \t |\t   90.91\n",
      "\n",
      "Test Accuracy: 100.00% with K=5\n"
     ]
    }
   ],
   "source": [
    "k_values = [1, 3, 5, 10, 15]\n",
    "validation_accuracies = {}\n",
    "for k in k_values:\n",
    "    accuracy = calculate_accuracy(Train_set, Val_set, k)\n",
    "    validation_accuracies[k] = accuracy\n",
    "best_k = max(validation_accuracies, key=validation_accuracies.get)\n",
    "test_accuracy = calculate_accuracy(Train_set, Test_set, best_k)\n",
    "print(f\"K values | Validation Accuracy (%)\")\n",
    "print(\"-\" * 40)\n",
    "for k in k_values:\n",
    "    print(f\"{k} \\t |\\t   {validation_accuracies[k]:.2f}\")\n",
    "\n",
    "print(f\"\\nTest Accuracy: {test_accuracy:.2f}% with K={best_k}\")"
   ]
  }
 ],
 "metadata": {
  "kernelspec": {
   "display_name": "base",
   "language": "python",
   "name": "python3"
  },
  "language_info": {
   "codemirror_mode": {
    "name": "ipython",
    "version": 3
   },
   "file_extension": ".py",
   "mimetype": "text/x-python",
   "name": "python",
   "nbconvert_exporter": "python",
   "pygments_lexer": "ipython3",
   "version": "3.12.7"
  }
 },
 "nbformat": 4,
 "nbformat_minor": 5
}

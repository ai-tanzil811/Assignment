{
 "cells": [
  {
   "cell_type": "markdown",
   "id": "b62867a9",
   "metadata": {},
   "source": [
    "# DATA PREAPARATION"
   ]
  },
  {
   "cell_type": "code",
   "execution_count": 4,
   "id": "8fafdfd0",
   "metadata": {},
   "outputs": [
    {
     "name": "stdout",
     "output_type": "stream",
     "text": [
      "First 5 rows of the processed dataset:\n",
      "[5.1 3.5 1.4 0.2 0. ]\n",
      "[4.9 3.  1.4 0.2 0. ]\n",
      "[4.7 3.2 1.3 0.2 0. ]\n",
      "[4.6 3.1 1.5 0.2 0. ]\n",
      "[5.  3.6 1.4 0.2 0. ]\n",
      "Training set size: 103\n",
      "Validation set size: 25\n",
      "Test set size: 22\n"
     ]
    }
   ],
   "source": [
    "import random\n",
    "import numpy as np\n",
    "random.seed(100)\n",
    "\n",
    "data_path = 'Iris.csv'\n",
    "numeric_data = np.genfromtxt(data_path, delimiter=',', skip_header=1, usecols=[1, 2, 3, 4])\n",
    "species = np.genfromtxt(data_path, delimiter=',', skip_header=1, usecols=[5], dtype=str)\n",
    "\n",
    "unique_species = np.unique(species)\n",
    "label_dict = {name: i for i, name in enumerate(unique_species)}\n",
    "numeric_labels = np.array([label_dict[name] for name in species])\n",
    "\n",
    "my_data = np.column_stack((numeric_data, numeric_labels))\n",
    "\n",
    "print(\"First 5 rows of the processed dataset:\")\n",
    "for i in range(5):\n",
    "    print(my_data[i])\n",
    "\n",
    "Train_set = []\n",
    "Val_set = []\n",
    "Test_set = []\n",
    "\n",
    "for sample in my_data:\n",
    "    R = random.random()\n",
    "    if R >= 0 and R <= 0.7:\n",
    "        Train_set.append(sample)\n",
    "    elif R > 0.7 and R <= 0.85:\n",
    "        Val_set.append(sample)\n",
    "    else:\n",
    "        Test_set.append(sample)\n",
    "\n",
    "print(f\"Training set size: {len(Train_set)}\")\n",
    "print(f\"Validation set size: {len(Val_set)}\")\n",
    "print(f\"Test set size: {len(Test_set)}\")"
   ]
  },
  {
   "cell_type": "markdown",
   "id": "81433b10",
   "metadata": {},
   "source": [
    "# KNN Classification "
   ]
  },
  {
   "cell_type": "code",
   "execution_count": 5,
   "id": "90af64f8",
   "metadata": {},
   "outputs": [],
   "source": [
    "def knn_classify(train_set, validation_sample, k=5):\n",
    "    distances = []\n",
    "    vx = validation_sample[:-1]\n",
    "    \n",
    "    for train_sample in train_set:\n",
    "        tx = train_sample[:-1]\n",
    "        distance = np.sqrt(np.sum((vx - tx)**2))\n",
    "        distances.append((train_sample, distance))\n",
    "    \n",
    "    distances.sort(key=lambda x: x[1])\n",
    "    k_nearest = distances[:k]\n",
    "    k_nearest_classes = [sample[0][-1] for sample in k_nearest]\n",
    "    \n",
    "    from collections import Counter\n",
    "    class_counts = Counter(k_nearest_classes)\n",
    "    predicted_class = class_counts.most_common(1)[0][0]\n",
    "    \n",
    "    return predicted_class\n",
    "\n",
    "def calculate_validation_accuracy(train_set, val_set, k):\n",
    "    correct = 0\n",
    "    \n",
    "    for v_sample in val_set:\n",
    "        true_class = v_sample[-1]\n",
    "        predicted_class = knn_classify(train_set, v_sample, k)\n",
    "        if predicted_class == true_class:\n",
    "            correct += 1\n",
    "    \n",
    "    accuracy = (correct / len(val_set)) * 100\n",
    "    return accuracy"
   ]
  },
  {
   "cell_type": "markdown",
   "id": "a6d542f9",
   "metadata": {},
   "source": [
    "# KNN CLASSIFICATION REPORT"
   ]
  },
  {
   "cell_type": "code",
   "execution_count": 6,
   "id": "e92db2ac",
   "metadata": {},
   "outputs": [
    {
     "name": "stdout",
     "output_type": "stream",
     "text": [
      "Validation Accuracy for K=1: 96.00%\n",
      "Validation Accuracy for K=3: 96.00%\n",
      "Validation Accuracy for K=5: 100.00%\n",
      "Validation Accuracy for K=10: 100.00%\n",
      "Validation Accuracy for K=15: 96.00%\n",
      "\n",
      "Best K value: 5 with accuracy: 100.00%\n",
      "\n",
      "K\tValidation Accuracy\n",
      "-------------------------\n",
      "1\t96.00%\n",
      "3\t96.00%\n",
      "5\t100.00%\n",
      "10\t100.00%\n",
      "15\t96.00%\n",
      "\n",
      "Test Accuracy (K=5): 100.00%\n"
     ]
    }
   ],
   "source": [
    "k_values = [1, 3, 5, 10, 15]\n",
    "validation_accuracies = {}\n",
    "\n",
    "for k in k_values:\n",
    "    accuracy = calculate_validation_accuracy(Train_set, Val_set, k)\n",
    "    validation_accuracies[k] = accuracy\n",
    "    print(f\"Validation Accuracy for K={k}: {accuracy:.2f}%\")\n",
    "\n",
    "best_k = max(validation_accuracies, key=validation_accuracies.get)\n",
    "print(f\"\\nBest K value: {best_k} with accuracy: {validation_accuracies[best_k]:.2f}%\")\n",
    "\n",
    "print(\"\\nK\\tValidation Accuracy\")\n",
    "print(\"-\" * 25)\n",
    "for k in k_values:\n",
    "    print(f\"{k}\\t{validation_accuracies[k]:.2f}%\")\n",
    "\n",
    "test_accuracy = calculate_validation_accuracy(Train_set, Test_set, best_k)\n",
    "print(f\"\\nTest Accuracy (K={best_k}): {test_accuracy:.2f}%\")"
   ]
  }
 ],
 "metadata": {
  "kernelspec": {
   "display_name": "base",
   "language": "python",
   "name": "python3"
  },
  "language_info": {
   "codemirror_mode": {
    "name": "ipython",
    "version": 3
   },
   "file_extension": ".py",
   "mimetype": "text/x-python",
   "name": "python",
   "nbconvert_exporter": "python",
   "pygments_lexer": "ipython3",
   "version": "3.12.7"
  }
 },
 "nbformat": 4,
 "nbformat_minor": 5
}
